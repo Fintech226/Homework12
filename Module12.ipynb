{
 "cells": [
  {
   "cell_type": "code",
   "execution_count": 1,
   "id": "7c5aec94-605f-4495-9406-9f6979e7e86b",
   "metadata": {},
   "outputs": [
    {
     "ename": "ModuleNotFoundError",
     "evalue": "No module named 'imblearn'",
     "output_type": "error",
     "traceback": [
      "\u001b[1;31m---------------------------------------------------------------------------\u001b[0m",
      "\u001b[1;31mModuleNotFoundError\u001b[0m                       Traceback (most recent call last)",
      "\u001b[1;32m~\\AppData\\Local\\Temp\\ipykernel_28224\\1696156301.py\u001b[0m in \u001b[0;36m<module>\u001b[1;34m\u001b[0m\n\u001b[0;32m      4\u001b[0m \u001b[1;32mfrom\u001b[0m \u001b[0msklearn\u001b[0m\u001b[1;33m.\u001b[0m\u001b[0mmetrics\u001b[0m \u001b[1;32mimport\u001b[0m \u001b[0mclassification_report\u001b[0m\u001b[1;33m\u001b[0m\u001b[1;33m\u001b[0m\u001b[0m\n\u001b[0;32m      5\u001b[0m \u001b[1;32mfrom\u001b[0m \u001b[0msklearn\u001b[0m\u001b[1;33m.\u001b[0m\u001b[0mmodel_selection\u001b[0m \u001b[1;32mimport\u001b[0m \u001b[0mtrain_test_split\u001b[0m\u001b[1;33m\u001b[0m\u001b[1;33m\u001b[0m\u001b[0m\n\u001b[1;32m----> 6\u001b[1;33m \u001b[1;32mfrom\u001b[0m \u001b[0mimblearn\u001b[0m\u001b[1;33m.\u001b[0m\u001b[0mover_sampling\u001b[0m \u001b[1;32mimport\u001b[0m \u001b[0mRandomOverSampler\u001b[0m\u001b[1;33m\u001b[0m\u001b[1;33m\u001b[0m\u001b[0m\n\u001b[0m\u001b[0;32m      7\u001b[0m \u001b[1;32mfrom\u001b[0m \u001b[0msklearn\u001b[0m\u001b[1;33m.\u001b[0m\u001b[0mlinear_model\u001b[0m \u001b[1;32mimport\u001b[0m \u001b[0mLogisticRegression\u001b[0m\u001b[1;33m\u001b[0m\u001b[1;33m\u001b[0m\u001b[0m\n\u001b[0;32m      8\u001b[0m \u001b[1;32mfrom\u001b[0m \u001b[0msklearn\u001b[0m\u001b[1;33m.\u001b[0m\u001b[0mpreprocessing\u001b[0m \u001b[1;32mimport\u001b[0m \u001b[0mStandardScaler\u001b[0m\u001b[1;33m\u001b[0m\u001b[1;33m\u001b[0m\u001b[0m\n",
      "\u001b[1;31mModuleNotFoundError\u001b[0m: No module named 'imblearn'"
     ]
    }
   ],
   "source": [
    "import pandas as pd\n",
    "import matplotlib.pyplot as plt\n",
    "from pathlib import Path\n",
    "from sklearn.metrics import classification_report\n",
    "from sklearn.model_selection import train_test_split\n",
    "from imblearn.over_sampling import RandomOverSampler\n",
    "from sklearn.linear_model import LogisticRegression\n",
    "from sklearn.preprocessing import StandardScaler\n",
    "from sklearn.metrics import confusion_matrix\n",
    "from sklearn.metrics import balanced_accuracy_score\n",
    "from imblearn.metrics import classification_report_imbalanced"
   ]
  },
  {
   "cell_type": "code",
   "execution_count": null,
   "id": "28fdbfc1-a529-4142-99d5-7b89fc4052e6",
   "metadata": {},
   "outputs": [],
   "source": [
    "#Read the Lending Data\n",
    "loans_df = pd.read_csv(\n",
    "    Path('../Resources/lending_data.csv')\n",
    ")\n",
    "\n",
    "\n",
    "loans_df.head()"
   ]
  },
  {
   "cell_type": "code",
   "execution_count": null,
   "id": "5530f5a3-0d3c-4917-80e9-fc5f24731196",
   "metadata": {},
   "outputs": [],
   "source": [
    "# Split the data \n",
    "\n",
    "\n",
    "y = loans_df['Default']\n",
    "\n",
    "\n",
    "X = loans_df.drop(columns=['Default'])"
   ]
  },
  {
   "cell_type": "code",
   "execution_count": null,
   "id": "d5328926-ae55-4eb7-bb5a-e56ff2cfbfe4",
   "metadata": {},
   "outputs": [],
   "source": [
    "# Split data\n",
    "X_train, X_test, y_train, y_test = train_test_split(X, y, random_state=1)"
   ]
  },
  {
   "cell_type": "code",
   "execution_count": null,
   "id": "69375634-f435-4750-964c-853b0209fa70",
   "metadata": {},
   "outputs": [],
   "source": [
    "# Train the data\n",
    "scaler = StandardScaler()\n",
    "X_scaler = scaler.fit(X_train)\n",
    "X_train_scaled = X_scaler.transform(X_train)\n",
    "X_test_scaled = X_scaler.transform(X_test)"
   ]
  },
  {
   "cell_type": "code",
   "execution_count": null,
   "id": "e63afdf2-2009-4cd3-b58c-3ff2649985e2",
   "metadata": {},
   "outputs": [],
   "source": [
    "y_train.value_counts()"
   ]
  },
  {
   "cell_type": "code",
   "execution_count": null,
   "id": "0009c973-e16f-41d2-906b-f9c60d924656",
   "metadata": {},
   "outputs": [],
   "source": [
    "from sklearn.ensemble import RandomForestClassifier\n",
    "\n",
    "rf_model = RandomForestClassifier(n_estimators=100, random_state=1)\n",
    "rf_model = rf_model.fit(X_train_scaled, y_train)\n",
    "rf_predictions = rf_model.predict(X_test_scaled)"
   ]
  },
  {
   "cell_type": "code",
   "execution_count": null,
   "id": "515534d3-32ab-4235-a967-17eff2ff8799",
   "metadata": {},
   "outputs": [],
   "source": [
    "#Run the LOgistic\n",
    "from imblearn.ensemble import BalancedRandomForestClassifier\n",
    "\n",
    "\n",
    "brf = BalancedRandomForestClassifier()\n",
    "brf.fit(X_train_scaled, y_train)"
   ]
  },
  {
   "cell_type": "code",
   "execution_count": null,
   "id": "e8750900-5a3a-42b3-9416-c8c8a7c772bb",
   "metadata": {},
   "outputs": [],
   "source": [
    "\n",
    "brf_predictions = brf.predict(X_test_scaled)"
   ]
  },
  {
   "cell_type": "code",
   "execution_count": null,
   "id": "2cd36dc2-be52-454c-b642-2832685c2871",
   "metadata": {},
   "outputs": [],
   "source": [
    "# Import SMOTE n\n",
    "from imblearn.over_sampling import SMOTE\n",
    "\n",
    "\n",
    "smote_sampler = SMOTE(random_state=1, sampling_strategy='auto')\n",
    "X_resampled, y_resampled = smote_sampler.fit_resample(X_train, y_train)\n",
    "model_resampled_rf = RandomForestClassifier()\n",
    "model_resampled_rf.fit(X_resampled, y_resampled)\n",
    "rf_resampled_predictions = model_resampled_rf.predict(X_test)"
   ]
  },
  {
   "cell_type": "code",
   "execution_count": null,
   "id": "0ec597e8-226a-4c3b-a0a1-9cfe89cf31db",
   "metadata": {},
   "outputs": [],
   "source": [
    "confusion_matrix(y_test, rf_predictions)"
   ]
  },
  {
   "cell_type": "code",
   "execution_count": null,
   "id": "11ac8138-f489-4d25-aa05-a2e50b326ab9",
   "metadata": {},
   "outputs": [],
   "source": [
    "confusion_matrix(y_test, brf_predictions)"
   ]
  },
  {
   "cell_type": "code",
   "execution_count": null,
   "id": "d3444d71-7bec-4a55-8d4c-963c78c23e10",
   "metadata": {},
   "outputs": [],
   "source": [
    "confusion_matrix(y_test, rf_resampled_predictions)"
   ]
  },
  {
   "cell_type": "code",
   "execution_count": 2,
   "id": "eb81f742-4d17-46b4-a431-573e6f06b6f2",
   "metadata": {},
   "outputs": [
    {
     "ename": "NameError",
     "evalue": "name 'balanced_accuracy_score' is not defined",
     "output_type": "error",
     "traceback": [
      "\u001b[1;31m---------------------------------------------------------------------------\u001b[0m",
      "\u001b[1;31mNameError\u001b[0m                                 Traceback (most recent call last)",
      "\u001b[1;32m~\\AppData\\Local\\Temp\\ipykernel_28224\\1873407365.py\u001b[0m in \u001b[0;36m<module>\u001b[1;34m\u001b[0m\n\u001b[0;32m      1\u001b[0m \u001b[1;31m# Print the accuracy score for the original data\u001b[0m\u001b[1;33m\u001b[0m\u001b[1;33m\u001b[0m\u001b[0m\n\u001b[1;32m----> 2\u001b[1;33m \u001b[0mbaso\u001b[0m \u001b[1;33m=\u001b[0m \u001b[0mbalanced_accuracy_score\u001b[0m\u001b[1;33m(\u001b[0m\u001b[0my_test\u001b[0m\u001b[1;33m,\u001b[0m \u001b[0mrf_predictions\u001b[0m\u001b[1;33m)\u001b[0m\u001b[1;33m\u001b[0m\u001b[1;33m\u001b[0m\u001b[0m\n\u001b[0m\u001b[0;32m      3\u001b[0m \u001b[0mprint\u001b[0m\u001b[1;33m(\u001b[0m\u001b[0mbaso\u001b[0m\u001b[1;33m)\u001b[0m\u001b[1;33m\u001b[0m\u001b[1;33m\u001b[0m\u001b[0m\n",
      "\u001b[1;31mNameError\u001b[0m: name 'balanced_accuracy_score' is not defined"
     ]
    }
   ],
   "source": [
    "#Run BASO\n",
    "baso = balanced_accuracy_score(y_test, rf_predictions)\n",
    "print(baso)"
   ]
  },
  {
   "cell_type": "code",
   "execution_count": null,
   "id": "210b5c47-8abb-4710-a509-4bd3d66f2652",
   "metadata": {},
   "outputs": [],
   "source": [
    "\n",
    "basr = balanced_accuracy_score(y_test, brf_predictions)\n",
    "print(basr)"
   ]
  },
  {
   "cell_type": "code",
   "execution_count": null,
   "id": "b5c5d20b-fa35-4779-9285-1983c38bf2ec",
   "metadata": {},
   "outputs": [],
   "source": [
    "\n",
    "basrs = balanced_accuracy_score(y_test, rf_resampled_predictions)\n",
    "print(basrs)"
   ]
  },
  {
   "cell_type": "code",
   "execution_count": null,
   "id": "6bc736c4-8bf6-4044-841c-d93c6758f2dd",
   "metadata": {},
   "outputs": [],
   "source": [
    "# Print the classification results\n",
    "print(classification_report_imbalanced(y_test, rf_predictions))"
   ]
  },
  {
   "cell_type": "code",
   "execution_count": null,
   "id": "451b4ce2-65cf-4213-bc0b-0d7697b894cb",
   "metadata": {},
   "outputs": [],
   "source": [
    "# Print the classification results for BASO\n",
    "print(classification_report_imbalanced(y_test, brf_predictions)"
   ]
  },
  {
   "cell_type": "code",
   "execution_count": 3,
   "id": "e6bbc671-3333-4a07-b797-c19d263d3079",
   "metadata": {},
   "outputs": [
    {
     "ename": "NameError",
     "evalue": "name 'classification_report_imbalanced' is not defined",
     "output_type": "error",
     "traceback": [
      "\u001b[1;31m---------------------------------------------------------------------------\u001b[0m",
      "\u001b[1;31mNameError\u001b[0m                                 Traceback (most recent call last)",
      "\u001b[1;32m~\\AppData\\Local\\Temp\\ipykernel_28224\\3715017946.py\u001b[0m in \u001b[0;36m<module>\u001b[1;34m\u001b[0m\n\u001b[0;32m      1\u001b[0m \u001b[1;31m# Print the classification report for the resampled data\u001b[0m\u001b[1;33m\u001b[0m\u001b[1;33m\u001b[0m\u001b[0m\n\u001b[1;32m----> 2\u001b[1;33m \u001b[0mprint\u001b[0m\u001b[1;33m(\u001b[0m\u001b[0mclassification_report_imbalanced\u001b[0m\u001b[1;33m(\u001b[0m\u001b[0my_test\u001b[0m\u001b[1;33m,\u001b[0m \u001b[0mrf_resampled_predictions\u001b[0m\u001b[1;33m)\u001b[0m\u001b[1;33m)\u001b[0m\u001b[1;33m\u001b[0m\u001b[1;33m\u001b[0m\u001b[0m\n\u001b[0m",
      "\u001b[1;31mNameError\u001b[0m: name 'classification_report_imbalanced' is not defined"
     ]
    }
   ],
   "source": [
    "print(classification_report_imbalanced(y_test, rf_resampled_predictions))"
   ]
  },
  {
   "cell_type": "code",
   "execution_count": null,
   "id": "cddfbd03-e48e-4bde-9656-a068b3214ecc",
   "metadata": {},
   "outputs": [],
   "source": []
  },
  {
   "cell_type": "code",
   "execution_count": null,
   "id": "eebc00b2-ddd8-42a6-8c16-d7f5e8682b0f",
   "metadata": {},
   "outputs": [],
   "source": []
  },
  {
   "cell_type": "code",
   "execution_count": null,
   "id": "595c24ac-9967-4d2a-8c61-846e966936c5",
   "metadata": {},
   "outputs": [],
   "source": [
    "\n"
   ]
  }
 ],
 "metadata": {
  "kernelspec": {
   "display_name": "Python 3 (ipykernel)",
   "language": "python",
   "name": "python3"
  },
  "language_info": {
   "codemirror_mode": {
    "name": "ipython",
    "version": 3
   },
   "file_extension": ".py",
   "mimetype": "text/x-python",
   "name": "python",
   "nbconvert_exporter": "python",
   "pygments_lexer": "ipython3",
   "version": "3.9.13"
  }
 },
 "nbformat": 4,
 "nbformat_minor": 5
}
